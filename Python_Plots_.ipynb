{
  "nbformat": 4,
  "nbformat_minor": 0,
  "metadata": {
    "colab": {
      "name": "Python Plots .ipynb",
      "provenance": [],
      "authorship_tag": "ABX9TyPHuL+8WBbiOEoRsQ61kBWZ",
      "include_colab_link": true
    },
    "kernelspec": {
      "name": "python3",
      "display_name": "Python 3"
    }
  },
  "cells": [
    {
      "cell_type": "markdown",
      "metadata": {
        "id": "view-in-github",
        "colab_type": "text"
      },
      "source": [
        "<a href=\"https://colab.research.google.com/github/adithyanarayanan/Py-Plotting/blob/main/Python_Plots_.ipynb\" target=\"_parent\"><img src=\"https://colab.research.google.com/assets/colab-badge.svg\" alt=\"Open In Colab\"/></a>"
      ]
    },
    {
      "cell_type": "markdown",
      "metadata": {
        "id": "ggB1sY7xFWEl"
      },
      "source": [
        "Lofty Goal: To eventually master visualization as much as Dr Varun Chandola (https://ubdsgroup.github.io/team/varun-chandola/)\n",
        "\n",
        "Too big a goal, but maybe with 10,000 hours of practice..\n"
      ]
    },
    {
      "cell_type": "code",
      "metadata": {
        "id": "fFyws3YWBaT_"
      },
      "source": [
        "%matplotlib notebook"
      ],
      "execution_count": 1,
      "outputs": []
    },
    {
      "cell_type": "code",
      "metadata": {
        "colab": {
          "base_uri": "https://localhost:8080/",
          "height": 35
        },
        "id": "WoYwn_QmBqL5",
        "outputId": "e93923b9-a2fb-4040-81a8-3341139567c6"
      },
      "source": [
        "import matplotlib as mpl\n",
        "mpl.get_backend()"
      ],
      "execution_count": 2,
      "outputs": [
        {
          "output_type": "execute_result",
          "data": {
            "application/vnd.google.colaboratory.intrinsic+json": {
              "type": "string"
            },
            "text/plain": [
              "'module://ipykernel.pylab.backend_inline'"
            ]
          },
          "metadata": {
            "tags": []
          },
          "execution_count": 2
        }
      ]
    },
    {
      "cell_type": "code",
      "metadata": {
        "id": "TQzT76DXBubI"
      },
      "source": [
        "import matplotlib.pyplot as plt\n",
        "# plt.plot?"
      ],
      "execution_count": 3,
      "outputs": []
    },
    {
      "cell_type": "code",
      "metadata": {
        "id": "G8Lw1FdJEaMC"
      },
      "source": [
        "# plt is a scripting layer that interacts with the artist layer that primarily handles matplotlib interaction. "
      ],
      "execution_count": 5,
      "outputs": []
    },
    {
      "cell_type": "code",
      "metadata": {
        "colab": {
          "base_uri": "https://localhost:8080/",
          "height": 286
        },
        "id": "ZHf5j-kdB4Mp",
        "outputId": "bed284da-7700-4ad4-fdd2-00e506137937"
      },
      "source": [
        "#retrieves current axes and sets the bounds using ax.axis\n",
        "\n",
        "plt.figure()\n",
        "plt.plot(5, 7, 'o')\n",
        "\n",
        "ax = plt.gca() # get current axis\n",
        "ax.axis([0,6,0,10]) # set bounds for x and y axis"
      ],
      "execution_count": 4,
      "outputs": [
        {
          "output_type": "execute_result",
          "data": {
            "text/plain": [
              "(0.0, 6.0, 0.0, 10.0)"
            ]
          },
          "metadata": {
            "tags": []
          },
          "execution_count": 4
        },
        {
          "output_type": "display_data",
          "data": {
            "image/png": "[encoded data removed]",
            "text/plain": [
              "<Figure size 432x288 with 1 Axes>"
            ]
          },
          "metadata": {
            "tags": [],
            "needs_background": "light"
          }
        }
      ]
    },
    {
      "cell_type": "code",
      "metadata": {
        "colab": {
          "base_uri": "https://localhost:8080/",
          "height": 281
        },
        "id": "mnU7EqDYDSuD",
        "outputId": "3aa19346-3a00-4375-f641-8f009d4d4c8f"
      },
      "source": [
        "# Basic Scatter\n",
        "\n",
        "import numpy as np\n",
        "\n",
        "x = np.array([30,50,70,90])\n",
        "y = np.array([40,60,80, 100])\n",
        "\n",
        "plt.figure()\n",
        "plt.scatter(x,y)\n"
      ],
      "execution_count": 5,
      "outputs": [
        {
          "output_type": "execute_result",
          "data": {
            "text/plain": [
              "<matplotlib.collections.PathCollection at 0x7f2f3e766c18>"
            ]
          },
          "metadata": {
            "tags": []
          },
          "execution_count": 5
        },
        {
          "output_type": "display_data",
          "data": {
            "image/png": "[encoded data removed]",
            "text/plain": [
              "<Figure size 432x288 with 1 Axes>"
            ]
          },
          "metadata": {
            "tags": [],
            "needs_background": "light"
          }
        }
      ]
    },
    {
      "cell_type": "code",
      "metadata": {
        "colab": {
          "base_uri": "https://localhost:8080/",
          "height": 312
        },
        "id": "yj0JGf_1Hur4",
        "outputId": "6b430ca5-547a-48e8-8909-9922d247456f"
      },
      "source": [
        "colors = ['green']*3\n",
        "colors.append('red')\n",
        "\n",
        "plt.xlabel(\"X Axis\")\n",
        "plt.ylabel(\"Y Axis\")\n",
        "plt.title(\"title\")\n",
        "plt.scatter(x,y, s=100, c=colors)"
      ],
      "execution_count": 12,
      "outputs": [
        {
          "output_type": "execute_result",
          "data": {
            "text/plain": [
              "<matplotlib.collections.PathCollection at 0x7f2f36375160>"
            ]
          },
          "metadata": {
            "tags": []
          },
          "execution_count": 12
        },
        {
          "output_type": "display_data",
          "data": {
            "image/png": "[encoded data removed]",
            "text/plain": [
              "<Figure size 432x288 with 1 Axes>"
            ]
          },
          "metadata": {
            "tags": [],
            "needs_background": "light"
          }
        }
      ]
    },
    {
      "cell_type": "code",
      "metadata": {
        "colab": {
          "base_uri": "https://localhost:8080/",
          "height": 281
        },
        "id": "KVrZ4E2Bvef8",
        "outputId": "7912f93e-446c-4e8b-9d3a-c50cb96b10a7"
      },
      "source": [
        "plt.plot(x**2,y**2, 'o') # math operations can be performed when passing x and y as parameters"
      ],
      "execution_count": 14,
      "outputs": [
        {
          "output_type": "execute_result",
          "data": {
            "text/plain": [
              "[<matplotlib.lines.Line2D at 0x7f2f36272c50>]"
            ]
          },
          "metadata": {
            "tags": []
          },
          "execution_count": 14
        },
        {
          "output_type": "display_data",
          "data": {
            "image/png": "[encoded data removed]",
            "text/plain": [
              "<Figure size 432x288 with 1 Axes>"
            ]
          },
          "metadata": {
            "tags": [],
            "needs_background": "light"
          }
        }
      ]
    },
    {
      "cell_type": "code",
      "metadata": {
        "colab": {
          "base_uri": "https://localhost:8080/",
          "height": 281
        },
        "id": "IQtXDHLfwoNI",
        "outputId": "8bd29477-73d5-4dea-9948-df64bf9d9ec5"
      },
      "source": [
        "np.random.seed(123)\n",
        "linear = np.random.randint(4, 100, size=10)\n",
        "linear_sq = np.square(linear)\n",
        "plt.plot(linear, '-o', linear_sq, \"-o\")  #this uses the index of the series/array as the x axis\n",
        "plt.legend(['Linear', 'Linear SQ'])\n",
        "plt.gca().fill_between(range(len(linear)), linear, linear_sq, facecolor=\"blue\", alpha=0.1) # Area within the range, between the lines, and the opacity"
      ],
      "execution_count": 29,
      "outputs": [
        {
          "output_type": "execute_result",
          "data": {
            "text/plain": [
              "<matplotlib.collections.PolyCollection at 0x7f2f35bffda0>"
            ]
          },
          "metadata": {
            "tags": []
          },
          "execution_count": 29
        },
        {
          "output_type": "display_data",
          "data": {
            "image/png": "[encoded data removed]",
            "text/plain": [
              "<Figure size 432x288 with 1 Axes>"
            ]
          },
          "metadata": {
            "tags": [],
            "needs_background": "light"
          }
        }
      ]
    },
    {
      "cell_type": "code",
      "metadata": {
        "colab": {
          "base_uri": "https://localhost:8080/",
          "height": 275
        },
        "id": "YCBwMuqYyTbX",
        "outputId": "c323429a-0a93-43c7-a28c-96709d8f3b6c"
      },
      "source": [
        "x_a = plt.gca().xaxis\n",
        "for item in x_a.get_ticklabels():\n",
        "    item.set_rotation(90) # rotates tick labels on the x axis by 90 degrees"
      ],
      "execution_count": 31,
      "outputs": [
        {
          "output_type": "display_data",
          "data": {
            "image/png": "[encoded data removed]",
            "text/plain": [
              "<Figure size 432x288 with 1 Axes>"
            ]
          },
          "metadata": {
            "tags": [],
            "needs_background": "light"
          }
        }
      ]
    },
    {
      "cell_type": "code",
      "metadata": {
        "colab": {
          "base_uri": "https://localhost:8080/",
          "height": 281
        },
        "id": "4_OaYMAJ0rNC",
        "outputId": "1707e5e2-7005-4ccc-feb3-90e29229e6fc"
      },
      "source": [
        "linear_data = np.array([1,2,3,4,5,6,7])\n",
        "quadratic = linear_data**2\n",
        "\n",
        "plt.bar(range(len(linear_data)), linear_data, width = 0.5)"
      ],
      "execution_count": 34,
      "outputs": [
        {
          "output_type": "execute_result",
          "data": {
            "text/plain": [
              "<BarContainer object of 7 artists>"
            ]
          },
          "metadata": {
            "tags": []
          },
          "execution_count": 34
        },
        {
          "output_type": "display_data",
          "data": {
            "image/png": "[encoded data removed]",
            "text/plain": [
              "<Figure size 432x288 with 1 Axes>"
            ]
          },
          "metadata": {
            "tags": [],
            "needs_background": "light"
          }
        }
      ]
    },
    {
      "cell_type": "code",
      "metadata": {
        "colab": {
          "base_uri": "https://localhost:8080/",
          "height": 281
        },
        "id": "TV48gsI_29vW",
        "outputId": "14d20944-9f05-436c-e139-08f034de0133"
      },
      "source": [
        "pos = list(range(len(linear_data)))\n",
        "final_pos = [x + 0.3 for x in pos]\n",
        "\n",
        "plt.bar(pos, linear_data, width = 0.5, color=\"blue\")\n",
        "plt.bar(final_pos, quadratic, width = 0.5, color=\"red\")  \n",
        "\n",
        "plt.legend([\"Linear\", \"Quad\"])"
      ],
      "execution_count": 45,
      "outputs": [
        {
          "output_type": "execute_result",
          "data": {
            "text/plain": [
              "<matplotlib.legend.Legend at 0x7f2f358256d8>"
            ]
          },
          "metadata": {
            "tags": []
          },
          "execution_count": 45
        },
        {
          "output_type": "display_data",
          "data": {
            "image/png": "[encoded data removed]",
            "text/plain": [
              "<Figure size 432x288 with 1 Axes>"
            ]
          },
          "metadata": {
            "tags": [],
            "needs_background": "light"
          }
        }
      ]
    },
    {
      "cell_type": "code",
      "metadata": {
        "colab": {
          "base_uri": "https://localhost:8080/",
          "height": 281
        },
        "id": "IulHqAQ04VaG",
        "outputId": "5456fd65-eb32-4afc-e195-5812483baed0"
      },
      "source": [
        "plt.bar(pos, linear_data, width = 0.5, color=\"blue\")\n",
        "plt.bar(pos, quadratic, width = 0.5, bottom =linear_data, color=\"red\")  "
      ],
      "execution_count": 48,
      "outputs": [
        {
          "output_type": "execute_result",
          "data": {
            "text/plain": [
              "<BarContainer object of 7 artists>"
            ]
          },
          "metadata": {
            "tags": []
          },
          "execution_count": 48
        },
        {
          "output_type": "display_data",
          "data": {
            "image/png": "[encoded data removed]",
            "text/plain": [
              "<Figure size 432x288 with 1 Axes>"
            ]
          },
          "metadata": {
            "tags": [],
            "needs_background": "light"
          }
        }
      ]
    },
    {
      "cell_type": "code",
      "metadata": {
        "id": "bZaHvuWv4joL"
      },
      "source": [
        ""
      ],
      "execution_count": null,
      "outputs": []
    }
  ]
}