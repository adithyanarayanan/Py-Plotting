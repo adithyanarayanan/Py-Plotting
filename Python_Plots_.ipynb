{
  "nbformat": 4,
  "nbformat_minor": 0,
  "metadata": {
    "colab": {
      "name": "Python Plots .ipynb",
      "provenance": [],
      "authorship_tag": "ABX9TyMVpDxoVOIJFJ3zapI6tg5Q",
      "include_colab_link": true
    },
    "kernelspec": {
      "name": "python3",
      "display_name": "Python 3"
    }
  },
  "cells": [
    {
      "cell_type": "markdown",
      "metadata": {
        "id": "view-in-github",
        "colab_type": "text"
      },
      "source": [
        "<a href=\"https://colab.research.google.com/github/adithyanarayanan/Py-Plotting/blob/main/Python_Plots_.ipynb\" target=\"_parent\"><img src=\"https://colab.research.google.com/assets/colab-badge.svg\" alt=\"Open In Colab\"/></a>"
      ]
    },
    {
      "cell_type": "code",
      "metadata": {
        "id": "HT9C6qt5GuPs"
      },
      "source": [
        "# "
      ],
      "execution_count": null,
      "outputs": []
    },
    {
      "cell_type": "markdown",
      "metadata": {
        "id": "ggB1sY7xFWEl"
      },
      "source": [
        "Lofty Goal: To eventually master visualization as much as Dr Varun Chandola (https://ubdsgroup.github.io/team/varun-chandola/)\n",
        "\n",
        "Too big a goal, but maybe with 10,000 hours of practice..\n"
      ]
    },
    {
      "cell_type": "code",
      "metadata": {
        "id": "fFyws3YWBaT_"
      },
      "source": [
        "%matplotlib notebook"
      ],
      "execution_count": 1,
      "outputs": []
    },
    {
      "cell_type": "code",
      "metadata": {
        "colab": {
          "base_uri": "https://localhost:8080/",
          "height": 35
        },
        "id": "WoYwn_QmBqL5",
        "outputId": "5b7c156b-db25-4a6b-bbca-10afd92dc117"
      },
      "source": [
        "import matplotlib as mpl\n",
        "mpl.get_backend()"
      ],
      "execution_count": 2,
      "outputs": [
        {
          "output_type": "execute_result",
          "data": {
            "application/vnd.google.colaboratory.intrinsic+json": {
              "type": "string"
            },
            "text/plain": [
              "'module://ipykernel.pylab.backend_inline'"
            ]
          },
          "metadata": {
            "tags": []
          },
          "execution_count": 2
        }
      ]
    },
    {
      "cell_type": "code",
      "metadata": {
        "id": "TQzT76DXBubI"
      },
      "source": [
        "import matplotlib.pyplot as plt\n",
        "plt.plot?"
      ],
      "execution_count": 3,
      "outputs": []
    },
    {
      "cell_type": "code",
      "metadata": {
        "id": "G8Lw1FdJEaMC"
      },
      "source": [
        "# plt is a scripting layer that interacts with the artist layer that primarily handles matplotlib interaction. "
      ],
      "execution_count": 18,
      "outputs": []
    },
    {
      "cell_type": "code",
      "metadata": {
        "colab": {
          "base_uri": "https://localhost:8080/",
          "height": 286
        },
        "id": "ZHf5j-kdB4Mp",
        "outputId": "7d506ca3-e2ab-45ec-9600-4babe8595146"
      },
      "source": [
        "#retrieves current axes and sets the bounds using ax.axis\n",
        "\n",
        "plt.figure()\n",
        "plt.plot(5, 7, 'o')\n",
        "\n",
        "ax = plt.gca() # get current axis\n",
        "ax.axis([0,6,0,10]) # set bounds for x and y axis"
      ],
      "execution_count": 17,
      "outputs": [
        {
          "output_type": "execute_result",
          "data": {
            "text/plain": [
              "(0.0, 6.0, 0.0, 10.0)"
            ]
          },
          "metadata": {
            "tags": []
          },
          "execution_count": 17
        },
        {
          "output_type": "display_data",
          "data": {
            "image/png": "[encoded data removed]",
            "text/plain": [
              "<Figure size 432x288 with 1 Axes>"
            ]
          },
          "metadata": {
            "tags": [],
            "needs_background": "light"
          }
        }
      ]
    },
    {
      "cell_type": "code",
      "metadata": {
        "colab": {
          "base_uri": "https://localhost:8080/",
          "height": 282
        },
        "id": "mnU7EqDYDSuD",
        "outputId": "67d3381d-31ad-4390-e6eb-511d4ce41ed6"
      },
      "source": [
        "# Basic Scatter\n",
        "\n",
        "import numpy as np\n",
        "\n",
        "x = np.array([30,50,70,90])\n",
        "y = np.array([40,60,80, 100])\n",
        "\n",
        "plt.figure()\n",
        "plt.scatter(x,y) "
      ],
      "execution_count": 26,
      "outputs": [
        {
          "output_type": "execute_result",
          "data": {
            "text/plain": [
              "<matplotlib.collections.PathCollection at 0x7f619fe84cf8>"
            ]
          },
          "metadata": {
            "tags": []
          },
          "execution_count": 26
        },
        {
          "output_type": "display_data",
          "data": {
            "image/png": "[encoded data removed]",
            "text/plain": [
              "<Figure size 432x288 with 1 Axes>"
            ]
          },
          "metadata": {
            "tags": [],
            "needs_background": "light"
          }
        }
      ]
    },
    {
      "cell_type": "code",
      "metadata": {
        "colab": {
          "base_uri": "https://localhost:8080/",
          "height": 282
        },
        "id": "yj0JGf_1Hur4",
        "outputId": "3266ba30-9693-4e26-dab0-7badd3300a60"
      },
      "source": [
        "colors = ['green']*3\n",
        "colors.append('red')\n",
        "\n",
        "plt.scatter(x,y, s=100, c=colors)"
      ],
      "execution_count": 27,
      "outputs": [
        {
          "output_type": "execute_result",
          "data": {
            "text/plain": [
              "<matplotlib.collections.PathCollection at 0x7f619fe68f28>"
            ]
          },
          "metadata": {
            "tags": []
          },
          "execution_count": 27
        },
        {
          "output_type": "display_data",
          "data": {
            "image/png": "[encoded data removed]",
            "text/plain": [
              "<Figure size 432x288 with 1 Axes>"
            ]
          },
          "metadata": {
            "tags": [],
            "needs_background": "light"
          }
        }
      ]
    }
  ]
}